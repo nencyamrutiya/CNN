{
  "nbformat": 4,
  "nbformat_minor": 0,
  "metadata": {
    "colab": {
      "provenance": [],
      "machine_shape": "hm",
      "gpuType": "V100"
    },
    "kernelspec": {
      "name": "python3",
      "display_name": "Python 3"
    },
    "language_info": {
      "name": "python"
    },
    "accelerator": "GPU"
  },
  "cells": [
    {
      "cell_type": "code",
      "execution_count": null,
      "metadata": {
        "id": "FW2MxlxlBAZG"
      },
      "outputs": [],
      "source": [
        "import os\n",
        "import numpy as np\n",
        "import cv2\n",
        "from sklearn.model_selection import train_test_split\n",
        "from tensorflow.keras.models import Model\n",
        "from tensorflow.keras.layers import Input, Conv2D, MaxPooling2D, Flatten, Dense, Concatenate, Dropout"
      ]
    },
    {
      "cell_type": "code",
      "source": [
        "# Function to load and preprocess images\n",
        "def load_images_and_masks(image_path, mask_path):\n",
        "    image_filenames = os.listdir(image_path)\n",
        "    images = [cv2.resize(cv2.imread(os.path.join(image_path, filename), cv2.IMREAD_GRAYSCALE), (224, 224)) for filename in image_filenames]\n",
        "    mask_filenames = os.listdir(mask_path)\n",
        "    masks = [cv2.resize(cv2.imread(os.path.join(mask_path, filename), cv2.IMREAD_GRAYSCALE), (224, 224)) for filename in mask_filenames]\n",
        "    return np.array(images) / 255.0, np.array(masks) / 255.0"
      ],
      "metadata": {
        "id": "OynPROe5M0PI"
      },
      "execution_count": null,
      "outputs": []
    },
    {
      "cell_type": "code",
      "source": [
        "covid19_img = '/content/drive/MyDrive/CovidXRayImages/COVID-19 /images'\n",
        "covid19_lm = '/content/drive/MyDrive/CovidXRayImages/COVID-19 /lung masks'\n",
        "noncovid_img = '/content/drive/MyDrive/CovidXRayImages/Non-COVID/images'\n",
        "noncovid_lm = '/content/drive/MyDrive/CovidXRayImages/Non-COVID/lung masks'\n",
        "normal_img = '/content/drive/MyDrive/CovidXRayImages/Normal/images'\n",
        "normal_lm ='/content/drive/MyDrive/CovidXRayImages/Normal/lung masks'"
      ],
      "metadata": {
        "id": "OTI0ug1-NEUo"
      },
      "execution_count": null,
      "outputs": []
    },
    {
      "cell_type": "code",
      "source": [
        "# Load images and masks\n",
        "covid19_images, covid19_masks = load_images_and_masks(covid19_img, covid19_lm)\n",
        "noncovid_images, noncovid_masks = load_images_and_masks(noncovid_img, noncovid_lm)\n",
        "normal_images, normal_masks = load_images_and_masks(normal_img, normal_lm)"
      ],
      "metadata": {
        "id": "Ffgw9tJFNFc5"
      },
      "execution_count": null,
      "outputs": []
    },
    {
      "cell_type": "code",
      "source": [
        "# Combine images and masks\n",
        "all_images = np.concatenate((covid19_images, noncovid_images, normal_images), axis=0)\n",
        "all_masks = np.concatenate((covid19_masks, noncovid_masks, normal_masks), axis=0)"
      ],
      "metadata": {
        "id": "PKm5KWc1PPkJ"
      },
      "execution_count": null,
      "outputs": []
    },
    {
      "cell_type": "code",
      "source": [
        "# Assign labels: 0 for Covid-19, 1 for Non-Covid, 2 for Normal\n",
        "labels = np.concatenate((np.zeros(len(covid19_images)), np.ones(len(noncovid_images)), 2*np.ones(len(normal_images))))\n"
      ],
      "metadata": {
        "id": "G2KOlii2PbIF"
      },
      "execution_count": null,
      "outputs": []
    },
    {
      "cell_type": "code",
      "source": [
        "# Shuffle the data while keeping labels intact\n",
        "indices = np.arange(len(all_images))\n",
        "np.random.shuffle(indices)\n",
        "all_images = all_images[indices]\n",
        "all_masks = all_masks[indices]\n",
        "labels = labels[indices]\n"
      ],
      "metadata": {
        "id": "LskwRYzAPhHz"
      },
      "execution_count": null,
      "outputs": []
    },
    {
      "cell_type": "code",
      "source": [
        "# Split data into training and testing sets\n",
        "X_train, X_test, y_train, y_test = train_test_split(all_images, labels, test_size=0.2, random_state=42)"
      ],
      "metadata": {
        "id": "daJgb0biPh4C"
      },
      "execution_count": null,
      "outputs": []
    },
    {
      "cell_type": "code",
      "source": [
        "len(y_train)"
      ],
      "metadata": {
        "colab": {
          "base_uri": "https://localhost:8080/"
        },
        "id": "pEWZfkGcm2NS",
        "outputId": "af789c4b-02b4-4f75-906c-723e9e9bf65e"
      },
      "execution_count": null,
      "outputs": [
        {
          "output_type": "execute_result",
          "data": {
            "text/plain": [
              "4333"
            ]
          },
          "metadata": {},
          "execution_count": 10
        }
      ]
    },
    {
      "cell_type": "code",
      "source": [
        "# Define image dimensions\n",
        "image_height, image_width = X_train.shape[1], X_train.shape[2]"
      ],
      "metadata": {
        "id": "rgPK-WRvPzDL"
      },
      "execution_count": null,
      "outputs": []
    },
    {
      "cell_type": "code",
      "source": [
        "image_height"
      ],
      "metadata": {
        "colab": {
          "base_uri": "https://localhost:8080/"
        },
        "id": "gVpE2W7LP1D2",
        "outputId": "b8f0ffb7-ba7b-441a-981e-96530747cd24"
      },
      "execution_count": null,
      "outputs": [
        {
          "output_type": "execute_result",
          "data": {
            "text/plain": [
              "224"
            ]
          },
          "metadata": {},
          "execution_count": 12
        }
      ]
    },
    {
      "cell_type": "code",
      "source": [
        "image_width"
      ],
      "metadata": {
        "colab": {
          "base_uri": "https://localhost:8080/"
        },
        "id": "iRMVCaZxP1Ha",
        "outputId": "4042929f-eba0-4a2f-bb59-5791357a7869"
      },
      "execution_count": null,
      "outputs": [
        {
          "output_type": "execute_result",
          "data": {
            "text/plain": [
              "224"
            ]
          },
          "metadata": {},
          "execution_count": 13
        }
      ]
    },
    {
      "cell_type": "code",
      "source": [
        "# Expand dimensions to add a channel dimension\n",
        "X_train = np.expand_dims(X_train, axis=-1)\n",
        "X_test = np.expand_dims(X_test, axis=-1)\n"
      ],
      "metadata": {
        "id": "Xh0B8kGXVPq6"
      },
      "execution_count": null,
      "outputs": []
    },
    {
      "cell_type": "code",
      "source": [
        "from tensorflow.keras.preprocessing.image import ImageDataGenerator"
      ],
      "metadata": {
        "id": "2kD1ezOQU80e"
      },
      "execution_count": null,
      "outputs": []
    },
    {
      "cell_type": "code",
      "source": [
        "# Create an ImageDataGenerator for data augmentation\n",
        "#datagen = ImageDataGenerator(\n",
        " #   rotation_range=10,\n",
        "  #  width_shift_range=0.1,\n",
        "   # height_shift_range=0.1,\n",
        "    #shear_range=0.2,\n",
        "    #zoom_range=0.2,\n",
        "    #horizontal_flip=True,\n",
        "    #vertical_flip=True,\n",
        "    #fill_mode='nearest'\n",
        "#)\n"
      ],
      "metadata": {
        "id": "TJSH6vCWUqlo"
      },
      "execution_count": null,
      "outputs": []
    },
    {
      "cell_type": "code",
      "source": [
        "# Fit the ImageDataGenerator on the training data\n",
        "#datagen.fit(X_train)"
      ],
      "metadata": {
        "id": "c2nLDK3yVS7R"
      },
      "execution_count": null,
      "outputs": []
    },
    {
      "cell_type": "code",
      "source": [
        " #Define early stopping\n",
        "#early_stopping = EarlyStopping(monitor='val_loss', patience=3, restore_best_weights=True)"
      ],
      "metadata": {
        "id": "5dBfyOsdUrL1"
      },
      "execution_count": null,
      "outputs": []
    },
    {
      "cell_type": "code",
      "source": [
        "# Build CNN model for X-ray images\n",
        "input_img = Input(shape=(image_height, image_width, 1))\n",
        "x = Conv2D(16, (3, 3), activation='relu')(input_img)\n",
        "x = MaxPooling2D((2, 2))(x)\n",
        "x = Conv2D(32, (3, 3), activation='relu')(x)\n",
        "x = MaxPooling2D((2, 2))(x)\n",
        "x = Conv2D(64, (3, 3), activation='relu')(x)\n",
        "x = MaxPooling2D((2, 2))(x)\n",
        "x = Flatten()(x)\n",
        "x = Dropout(0.3)(x)  # Adding dropout\n",
        "xray_output = Dense(32, activation='relu')(x)"
      ],
      "metadata": {
        "id": "gh8OR-kePo6P"
      },
      "execution_count": null,
      "outputs": []
    },
    {
      "cell_type": "code",
      "source": [
        "# Build CNN model for lung mask images\n",
        "input_mask = Input(shape=(image_height, image_width, 1))\n",
        "y = Conv2D(16, (3, 3), activation='relu')(input_mask)\n",
        "y = MaxPooling2D((2, 2))(y)\n",
        "y = Conv2D(32, (3, 3), activation='relu')(y)\n",
        "y = MaxPooling2D((2, 2))(y)\n",
        "y = Conv2D(64, (3, 3), activation='relu')(y)\n",
        "y = MaxPooling2D((2, 2))(y)\n",
        "y = Flatten()(y)\n",
        "y = Dropout(0.3)(y)  # Adding dropout\n",
        "mask_output = Dense(32, activation='relu')(y)"
      ],
      "metadata": {
        "id": "5bz5myWzP44r"
      },
      "execution_count": null,
      "outputs": []
    },
    {
      "cell_type": "code",
      "source": [
        "combined = Concatenate()([xray_output, mask_output])\n",
        "z = Dense(64, activation='relu')(combined)\n",
        "z = Dropout(0.3)(z)  # Adding dropout\n",
        "output = Dense(3, activation='softmax')(z)  # Output layer with 3 classes\n"
      ],
      "metadata": {
        "id": "cFF_giouP7Nh"
      },
      "execution_count": null,
      "outputs": []
    },
    {
      "cell_type": "code",
      "source": [
        "# Create model\n",
        "model = Model(inputs=[input_img, input_mask], outputs=output)"
      ],
      "metadata": {
        "id": "5OI8mbr1P9uu"
      },
      "execution_count": null,
      "outputs": []
    },
    {
      "cell_type": "code",
      "source": [
        "# Compile model\n",
        "model.compile(optimizer='adam', loss='sparse_categorical_crossentropy', metrics=['accuracy'])"
      ],
      "metadata": {
        "id": "efx5kqi-P_kQ"
      },
      "execution_count": null,
      "outputs": []
    },
    {
      "cell_type": "markdown",
      "source": [
        "Early Stopping: Implement early stopping during training to monitor the validation loss and stop training when it starts to increase, indicating overfitting."
      ],
      "metadata": {
        "id": "NBfz082tRe66"
      }
    },
    {
      "cell_type": "code",
      "source": [
        "from tensorflow.keras.callbacks import EarlyStopping\n"
      ],
      "metadata": {
        "id": "XSisYeZmRttT"
      },
      "execution_count": null,
      "outputs": []
    },
    {
      "cell_type": "code",
      "source": [
        "# Define early stopping\n",
        "early_stopping = EarlyStopping(monitor='val_loss', patience=3, restore_best_weights=True)\n"
      ],
      "metadata": {
        "id": "PHvQadzi7UxI"
      },
      "execution_count": null,
      "outputs": []
    },
    {
      "cell_type": "code",
      "source": [
        "# Train model with augmented data\n",
        "#model.fit(\n",
        "  #  datagen.flow([X_train, all_masks[:len(X_train)]], y_train, batch_size=32),\n",
        "   # epochs=30,\n",
        "   # steps_per_epoch=len(X_train) / 32,\n",
        "   # validation_data=([X_test, all_masks[len(X_train):]], y_test),\n",
        "   # callbacks=[early_stopping]\n",
        "#)"
      ],
      "metadata": {
        "id": "AojHdYnlQCNj"
      },
      "execution_count": null,
      "outputs": []
    },
    {
      "cell_type": "code",
      "source": [
        "# Train model\n",
        "model.fit([X_train, all_masks[:len(X_train)]], y_train, epochs=30, batch_size=32, validation_data=([X_test, all_masks[len(X_train):]], y_test), callbacks=[early_stopping])\n"
      ],
      "metadata": {
        "colab": {
          "base_uri": "https://localhost:8080/"
        },
        "id": "aJfh2uUf7bu3",
        "outputId": "4218ca36-b734-4fca-90da-6a7a066a6389"
      },
      "execution_count": null,
      "outputs": [
        {
          "output_type": "stream",
          "name": "stdout",
          "text": [
            "Epoch 1/30\n",
            "136/136 [==============================] - 12s 31ms/step - loss: 0.8779 - accuracy: 0.6047 - val_loss: 0.6484 - val_accuracy: 0.7472\n",
            "Epoch 2/30\n",
            "136/136 [==============================] - 2s 18ms/step - loss: 0.6467 - accuracy: 0.7480 - val_loss: 0.5671 - val_accuracy: 0.8017\n",
            "Epoch 3/30\n",
            "136/136 [==============================] - 2s 18ms/step - loss: 0.5366 - accuracy: 0.7994 - val_loss: 0.5240 - val_accuracy: 0.7989\n",
            "Epoch 4/30\n",
            "136/136 [==============================] - 2s 17ms/step - loss: 0.4690 - accuracy: 0.8195 - val_loss: 0.4989 - val_accuracy: 0.8192\n",
            "Epoch 5/30\n",
            "136/136 [==============================] - 2s 17ms/step - loss: 0.3762 - accuracy: 0.8569 - val_loss: 0.5353 - val_accuracy: 0.8100\n",
            "Epoch 6/30\n",
            "136/136 [==============================] - 2s 17ms/step - loss: 0.2968 - accuracy: 0.8867 - val_loss: 0.5287 - val_accuracy: 0.8100\n",
            "Epoch 7/30\n",
            "136/136 [==============================] - 2s 17ms/step - loss: 0.2473 - accuracy: 0.9075 - val_loss: 0.5704 - val_accuracy: 0.7915\n"
          ]
        },
        {
          "output_type": "execute_result",
          "data": {
            "text/plain": [
              "<keras.src.callbacks.History at 0x7ab4a33a8d60>"
            ]
          },
          "metadata": {},
          "execution_count": 27
        }
      ]
    },
    {
      "cell_type": "code",
      "source": [
        "# Evaluate model\n",
        "test_loss, test_acc = model.evaluate([X_test, all_masks[len(X_train):]], y_test)\n",
        "print(\"Test Accuracy:\", test_acc)"
      ],
      "metadata": {
        "colab": {
          "base_uri": "https://localhost:8080/"
        },
        "id": "A93xKNvzQdms",
        "outputId": "f1966856-01a6-4265-8496-8b3937d8536a"
      },
      "execution_count": null,
      "outputs": [
        {
          "output_type": "stream",
          "name": "stdout",
          "text": [
            "34/34 [==============================] - 0s 7ms/step - loss: 0.4989 - accuracy: 0.8192\n",
            "Test Accuracy: 0.8191881775856018\n"
          ]
        }
      ]
    },
    {
      "cell_type": "code",
      "source": [
        "model.summary()"
      ],
      "metadata": {
        "colab": {
          "base_uri": "https://localhost:8080/"
        },
        "id": "ZppVJ3p8-FQu",
        "outputId": "3af30d65-e55d-4d01-bcce-372f274e940d"
      },
      "execution_count": null,
      "outputs": [
        {
          "output_type": "stream",
          "name": "stdout",
          "text": [
            "Model: \"model\"\n",
            "__________________________________________________________________________________________________\n",
            " Layer (type)                Output Shape                 Param #   Connected to                  \n",
            "==================================================================================================\n",
            " input_1 (InputLayer)        [(None, 224, 224, 1)]        0         []                            \n",
            "                                                                                                  \n",
            " input_2 (InputLayer)        [(None, 224, 224, 1)]        0         []                            \n",
            "                                                                                                  \n",
            " conv2d (Conv2D)             (None, 222, 222, 16)         160       ['input_1[0][0]']             \n",
            "                                                                                                  \n",
            " conv2d_3 (Conv2D)           (None, 222, 222, 16)         160       ['input_2[0][0]']             \n",
            "                                                                                                  \n",
            " max_pooling2d (MaxPooling2  (None, 111, 111, 16)         0         ['conv2d[0][0]']              \n",
            " D)                                                                                               \n",
            "                                                                                                  \n",
            " max_pooling2d_3 (MaxPoolin  (None, 111, 111, 16)         0         ['conv2d_3[0][0]']            \n",
            " g2D)                                                                                             \n",
            "                                                                                                  \n",
            " conv2d_1 (Conv2D)           (None, 109, 109, 32)         4640      ['max_pooling2d[0][0]']       \n",
            "                                                                                                  \n",
            " conv2d_4 (Conv2D)           (None, 109, 109, 32)         4640      ['max_pooling2d_3[0][0]']     \n",
            "                                                                                                  \n",
            " max_pooling2d_1 (MaxPoolin  (None, 54, 54, 32)           0         ['conv2d_1[0][0]']            \n",
            " g2D)                                                                                             \n",
            "                                                                                                  \n",
            " max_pooling2d_4 (MaxPoolin  (None, 54, 54, 32)           0         ['conv2d_4[0][0]']            \n",
            " g2D)                                                                                             \n",
            "                                                                                                  \n",
            " conv2d_2 (Conv2D)           (None, 52, 52, 64)           18496     ['max_pooling2d_1[0][0]']     \n",
            "                                                                                                  \n",
            " conv2d_5 (Conv2D)           (None, 52, 52, 64)           18496     ['max_pooling2d_4[0][0]']     \n",
            "                                                                                                  \n",
            " max_pooling2d_2 (MaxPoolin  (None, 26, 26, 64)           0         ['conv2d_2[0][0]']            \n",
            " g2D)                                                                                             \n",
            "                                                                                                  \n",
            " max_pooling2d_5 (MaxPoolin  (None, 26, 26, 64)           0         ['conv2d_5[0][0]']            \n",
            " g2D)                                                                                             \n",
            "                                                                                                  \n",
            " flatten (Flatten)           (None, 43264)                0         ['max_pooling2d_2[0][0]']     \n",
            "                                                                                                  \n",
            " flatten_1 (Flatten)         (None, 43264)                0         ['max_pooling2d_5[0][0]']     \n",
            "                                                                                                  \n",
            " dropout (Dropout)           (None, 43264)                0         ['flatten[0][0]']             \n",
            "                                                                                                  \n",
            " dropout_1 (Dropout)         (None, 43264)                0         ['flatten_1[0][0]']           \n",
            "                                                                                                  \n",
            " dense (Dense)               (None, 32)                   1384480   ['dropout[0][0]']             \n",
            "                                                                                                  \n",
            " dense_1 (Dense)             (None, 32)                   1384480   ['dropout_1[0][0]']           \n",
            "                                                                                                  \n",
            " concatenate (Concatenate)   (None, 64)                   0         ['dense[0][0]',               \n",
            "                                                                     'dense_1[0][0]']             \n",
            "                                                                                                  \n",
            " dense_2 (Dense)             (None, 64)                   4160      ['concatenate[0][0]']         \n",
            "                                                                                                  \n",
            " dropout_2 (Dropout)         (None, 64)                   0         ['dense_2[0][0]']             \n",
            "                                                                                                  \n",
            " dense_3 (Dense)             (None, 3)                    195       ['dropout_2[0][0]']           \n",
            "                                                                                                  \n",
            "==================================================================================================\n",
            "Total params: 2819907 (10.76 MB)\n",
            "Trainable params: 2819907 (10.76 MB)\n",
            "Non-trainable params: 0 (0.00 Byte)\n",
            "__________________________________________________________________________________________________\n"
          ]
        }
      ]
    },
    {
      "cell_type": "code",
      "source": [
        "from sklearn.metrics import classification_report,confusion_matrix"
      ],
      "metadata": {
        "id": "x5hd0azIXjiY"
      },
      "execution_count": null,
      "outputs": []
    },
    {
      "cell_type": "code",
      "source": [
        "# Make predictions on test data\n",
        "y_pred = model.predict([X_test, all_masks[len(X_train):]])\n",
        "y_pred_classes = np.argmax(y_pred, axis=1)"
      ],
      "metadata": {
        "colab": {
          "base_uri": "https://localhost:8080/"
        },
        "id": "1opTZdr7XofW",
        "outputId": "0dedfab8-f30d-4643-a307-ca78067011f8"
      },
      "execution_count": null,
      "outputs": [
        {
          "output_type": "stream",
          "name": "stdout",
          "text": [
            "34/34 [==============================] - 0s 6ms/step\n"
          ]
        }
      ]
    },
    {
      "cell_type": "code",
      "source": [
        "# Print classification report\n",
        "print(\"Classification Report:\")\n",
        "print(classification_report(y_test, y_pred_classes))"
      ],
      "metadata": {
        "colab": {
          "base_uri": "https://localhost:8080/"
        },
        "id": "7YHjpKnAXkWo",
        "outputId": "0c040832-bf86-4a4a-fbc4-d1677f594a06"
      },
      "execution_count": null,
      "outputs": [
        {
          "output_type": "stream",
          "name": "stdout",
          "text": [
            "Classification Report:\n",
            "              precision    recall  f1-score   support\n",
            "\n",
            "         0.0       0.83      0.89      0.86       375\n",
            "         1.0       0.82      0.76      0.79       379\n",
            "         2.0       0.81      0.81      0.81       330\n",
            "\n",
            "    accuracy                           0.82      1084\n",
            "   macro avg       0.82      0.82      0.82      1084\n",
            "weighted avg       0.82      0.82      0.82      1084\n",
            "\n"
          ]
        }
      ]
    },
    {
      "cell_type": "code",
      "source": [
        "# Compute confusion matrix\n",
        "conf_matrix = confusion_matrix(y_test, y_pred_classes)\n",
        "print(\"Confusion Matrix:\")\n",
        "print(conf_matrix)"
      ],
      "metadata": {
        "colab": {
          "base_uri": "https://localhost:8080/"
        },
        "id": "H75ZlvsAYFe4",
        "outputId": "4282aee9-051e-4d7f-ebb2-c09455428e4c"
      },
      "execution_count": null,
      "outputs": [
        {
          "output_type": "stream",
          "name": "stdout",
          "text": [
            "Confusion Matrix:\n",
            "[[333  26  16]\n",
            " [ 44 288  47]\n",
            " [ 26  37 267]]\n"
          ]
        }
      ]
    },
    {
      "cell_type": "code",
      "source": [
        "from sklearn.model_selection import StratifiedKFold"
      ],
      "metadata": {
        "id": "ewPjI9Oj4_tb"
      },
      "execution_count": null,
      "outputs": []
    },
    {
      "cell_type": "code",
      "source": [
        "# Initialize StratifiedKFold\n",
        "skf = StratifiedKFold(n_splits=3, shuffle=True, random_state=42)\n",
        "# Initialize list to store test accuracies\n",
        "test_accuracies = []\n"
      ],
      "metadata": {
        "id": "pFjfvcf35AzZ"
      },
      "execution_count": null,
      "outputs": []
    },
    {
      "cell_type": "code",
      "source": [
        "# Iterate over folds\n",
        "for fold, (train_index, test_index) in enumerate(skf.split(all_images, labels), 1):\n",
        "    print(f'Fold {fold}')\n",
        "\n",
        "    # Split data into training and testing sets\n",
        "    X_train, X_test = all_images[train_index], all_images[test_index]\n",
        "    y_train, y_test = labels[train_index], labels[test_index]\n",
        "\n",
        "    # Define CNN model\n",
        "    input_img = Input(shape=(224, 224, 1))\n",
        "    x = Conv2D(16, (3, 3), activation='relu')(input_img)\n",
        "    x = MaxPooling2D((2, 2))(x)\n",
        "    x = Conv2D(32, (3, 3), activation='relu')(x)\n",
        "    x = MaxPooling2D((2, 2))(x)\n",
        "    x = Conv2D(64, (3, 3), activation='relu')(x)\n",
        "    x = MaxPooling2D((2, 2))(x)\n",
        "    x = Flatten()(x)\n",
        "    x = Dropout(0.3)(x)\n",
        "    x = Dense(32, activation='relu')(x)\n",
        "    output = Dense(3, activation='softmax')(x)\n",
        "    model = Model(inputs=input_img, outputs=output)\n",
        "\n",
        "    # Compile model\n",
        "    model.compile(optimizer='adam', loss='sparse_categorical_crossentropy', metrics=['accuracy'])\n",
        "\n",
        "    # Train model\n",
        "    model.fit(X_train, y_train, epochs=10, batch_size=32, validation_data=(X_test, y_test))\n",
        "\n",
        "    # Evaluate model\n",
        "    test_loss, test_acc = model.evaluate(X_test, y_test)\n",
        "    print(\"Test Accuracy:\", test_acc)\n",
        "\n",
        "    # Append test accuracy to list\n",
        "    test_accuracies.append(test_acc)"
      ],
      "metadata": {
        "colab": {
          "base_uri": "https://localhost:8080/"
        },
        "id": "SvAi5A7Y5EKl",
        "outputId": "1ec526c9-880d-4d51-d3f3-085c7f45409f"
      },
      "execution_count": null,
      "outputs": [
        {
          "output_type": "stream",
          "name": "stdout",
          "text": [
            "Fold 1\n",
            "Epoch 1/10\n",
            "113/113 [==============================] - 4s 25ms/step - loss: 0.9751 - accuracy: 0.5353 - val_loss: 0.8120 - val_accuracy: 0.6412\n",
            "Epoch 2/10\n",
            "113/113 [==============================] - 1s 12ms/step - loss: 0.7409 - accuracy: 0.6893 - val_loss: 0.7211 - val_accuracy: 0.7027\n",
            "Epoch 3/10\n",
            "113/113 [==============================] - 1s 12ms/step - loss: 0.6358 - accuracy: 0.7427 - val_loss: 0.6382 - val_accuracy: 0.7436\n",
            "Epoch 4/10\n",
            "113/113 [==============================] - 1s 12ms/step - loss: 0.5925 - accuracy: 0.7693 - val_loss: 0.6188 - val_accuracy: 0.7691\n",
            "Epoch 5/10\n",
            "113/113 [==============================] - 1s 12ms/step - loss: 0.5415 - accuracy: 0.7951 - val_loss: 0.6463 - val_accuracy: 0.7447\n",
            "Epoch 6/10\n",
            "113/113 [==============================] - 1s 12ms/step - loss: 0.5097 - accuracy: 0.8048 - val_loss: 0.6069 - val_accuracy: 0.7674\n",
            "Epoch 7/10\n",
            "113/113 [==============================] - 1s 12ms/step - loss: 0.4694 - accuracy: 0.8247 - val_loss: 0.6131 - val_accuracy: 0.7719\n",
            "Epoch 8/10\n",
            "113/113 [==============================] - 1s 12ms/step - loss: 0.4141 - accuracy: 0.8413 - val_loss: 0.5836 - val_accuracy: 0.7863\n",
            "Epoch 9/10\n",
            "113/113 [==============================] - 1s 13ms/step - loss: 0.3760 - accuracy: 0.8613 - val_loss: 0.6059 - val_accuracy: 0.7868\n",
            "Epoch 10/10\n",
            "113/113 [==============================] - 1s 12ms/step - loss: 0.3526 - accuracy: 0.8649 - val_loss: 0.5977 - val_accuracy: 0.7990\n",
            "57/57 [==============================] - 0s 5ms/step - loss: 0.5977 - accuracy: 0.7990\n",
            "Test Accuracy: 0.7990033030509949\n",
            "Fold 2\n",
            "Epoch 1/10\n",
            "113/113 [==============================] - 4s 22ms/step - loss: 0.8807 - accuracy: 0.6159 - val_loss: 0.7233 - val_accuracy: 0.6944\n",
            "Epoch 2/10\n",
            "113/113 [==============================] - 1s 12ms/step - loss: 0.6550 - accuracy: 0.7369 - val_loss: 0.6018 - val_accuracy: 0.7591\n",
            "Epoch 3/10\n",
            "113/113 [==============================] - 1s 12ms/step - loss: 0.5675 - accuracy: 0.7721 - val_loss: 0.5639 - val_accuracy: 0.7990\n",
            "Epoch 4/10\n",
            "113/113 [==============================] - 1s 12ms/step - loss: 0.4867 - accuracy: 0.8103 - val_loss: 0.5861 - val_accuracy: 0.7857\n",
            "Epoch 5/10\n",
            "113/113 [==============================] - 1s 12ms/step - loss: 0.4193 - accuracy: 0.8361 - val_loss: 0.5404 - val_accuracy: 0.8117\n",
            "Epoch 6/10\n",
            "113/113 [==============================] - 1s 12ms/step - loss: 0.3523 - accuracy: 0.8574 - val_loss: 0.5175 - val_accuracy: 0.8123\n",
            "Epoch 7/10\n",
            "113/113 [==============================] - 1s 12ms/step - loss: 0.2883 - accuracy: 0.8898 - val_loss: 0.5018 - val_accuracy: 0.8283\n",
            "Epoch 8/10\n",
            "113/113 [==============================] - 1s 12ms/step - loss: 0.2464 - accuracy: 0.9022 - val_loss: 0.5849 - val_accuracy: 0.8173\n",
            "Epoch 9/10\n",
            "113/113 [==============================] - 1s 12ms/step - loss: 0.2025 - accuracy: 0.9288 - val_loss: 0.6137 - val_accuracy: 0.8140\n",
            "Epoch 10/10\n",
            "113/113 [==============================] - 1s 12ms/step - loss: 0.1723 - accuracy: 0.9352 - val_loss: 0.5843 - val_accuracy: 0.8228\n",
            "57/57 [==============================] - 0s 5ms/step - loss: 0.5843 - accuracy: 0.8228\n",
            "Test Accuracy: 0.8228128552436829\n",
            "Fold 3\n",
            "Epoch 1/10\n",
            "113/113 [==============================] - 4s 24ms/step - loss: 0.8272 - accuracy: 0.6318 - val_loss: 0.7395 - val_accuracy: 0.6953\n",
            "Epoch 2/10\n",
            "113/113 [==============================] - 1s 12ms/step - loss: 0.6116 - accuracy: 0.7641 - val_loss: 0.6578 - val_accuracy: 0.7440\n",
            "Epoch 3/10\n",
            "113/113 [==============================] - 1s 12ms/step - loss: 0.5050 - accuracy: 0.8134 - val_loss: 0.5938 - val_accuracy: 0.7640\n",
            "Epoch 4/10\n",
            "113/113 [==============================] - 1s 12ms/step - loss: 0.4482 - accuracy: 0.8289 - val_loss: 0.5903 - val_accuracy: 0.7723\n",
            "Epoch 5/10\n",
            "113/113 [==============================] - 1s 12ms/step - loss: 0.3790 - accuracy: 0.8588 - val_loss: 0.6131 - val_accuracy: 0.7690\n",
            "Epoch 6/10\n",
            "113/113 [==============================] - 1s 12ms/step - loss: 0.3221 - accuracy: 0.8762 - val_loss: 0.5417 - val_accuracy: 0.7928\n",
            "Epoch 7/10\n",
            "113/113 [==============================] - 1s 12ms/step - loss: 0.2658 - accuracy: 0.9050 - val_loss: 0.5632 - val_accuracy: 0.8006\n",
            "Epoch 8/10\n",
            "113/113 [==============================] - 1s 12ms/step - loss: 0.2153 - accuracy: 0.9186 - val_loss: 0.5928 - val_accuracy: 0.8039\n",
            "Epoch 9/10\n",
            "113/113 [==============================] - 1s 12ms/step - loss: 0.1685 - accuracy: 0.9405 - val_loss: 0.6349 - val_accuracy: 0.7978\n",
            "Epoch 10/10\n",
            "113/113 [==============================] - 1s 12ms/step - loss: 0.1393 - accuracy: 0.9493 - val_loss: 0.7177 - val_accuracy: 0.8011\n",
            "57/57 [==============================] - 0s 5ms/step - loss: 0.7177 - accuracy: 0.8011\n",
            "Test Accuracy: 0.8011080622673035\n"
          ]
        }
      ]
    },
    {
      "cell_type": "code",
      "source": [
        "\n",
        "# Calculate and print average test accuracy\n",
        "avg_test_accuracy = np.mean(test_accuracies)\n",
        "print(\"Average Test Accuracy:\", avg_test_accuracy)"
      ],
      "metadata": {
        "colab": {
          "base_uri": "https://localhost:8080/"
        },
        "id": "t7BUjc5Q5e1f",
        "outputId": "1c11b9d6-41e3-4ca3-e763-d51d5e1b81c3"
      },
      "execution_count": null,
      "outputs": [
        {
          "output_type": "stream",
          "name": "stdout",
          "text": [
            "Average Test Accuracy: 0.8076414068539938\n"
          ]
        }
      ]
    },
    {
      "cell_type": "markdown",
      "source": [
        "Emperical tuning"
      ],
      "metadata": {
        "id": "B0i_d1aEaWpb"
      }
    },
    {
      "cell_type": "code",
      "source": [
        "def create_cnn_model(image_height, image_width, dropout_rate, num_filters, kernel_size, pool_size, dense_units):\n",
        "    input_img = Input(shape=(image_height, image_width, 1))\n",
        "    x = Conv2D(num_filters, kernel_size, activation='relu')(input_img)\n",
        "    x = MaxPooling2D(pool_size)(x)\n",
        "    x = Conv2D(num_filters * 2, kernel_size, activation='relu')(x)\n",
        "    x = MaxPooling2D(pool_size)(x)\n",
        "    x = Conv2D(num_filters * 4, kernel_size, activation='relu')(x)  # New convolutional layer\n",
        "    x = MaxPooling2D(pool_size)(x)                                  # New pooling layer\n",
        "    x = Flatten()(x)\n",
        "    x = Dropout(dropout_rate)(x)\n",
        "    x = Dense(dense_units, activation='relu')(x)\n",
        "    output = Dense(3, activation='softmax')(x)\n",
        "    model = Model(inputs=input_img, outputs=output)\n",
        "    model.compile(optimizer='adam', loss='sparse_categorical_crossentropy', metrics=['accuracy'])\n",
        "    return model\n"
      ],
      "metadata": {
        "id": "gd4whMgDwQDa"
      },
      "execution_count": null,
      "outputs": []
    },
    {
      "cell_type": "code",
      "source": [
        "# Define image dimensions\n",
        "image_height, image_width = X_train.shape[1], X_train.shape[2]\n"
      ],
      "metadata": {
        "id": "NVn9PWYFwS5u"
      },
      "execution_count": null,
      "outputs": []
    },
    {
      "cell_type": "code",
      "source": [
        "# Define hyperparameters for tuning\n",
        "hyperparameters = [\n",
        "    {'dropout_rate': 0.6, 'num_filters': 16, 'kernel_size': (3, 3), 'pool_size': (2, 2), 'dense_units': 32},\n",
        "    {'dropout_rate': 0.5, 'num_filters': 32, 'kernel_size': (3, 3), 'pool_size': (2, 2), 'dense_units': 64},\n",
        "    {'dropout_rate': 0.4, 'num_filters': 64, 'kernel_size': (3, 3), 'pool_size': (2, 2), 'dense_units': 128}\n",
        "]\n"
      ],
      "metadata": {
        "id": "SRgQItFSwkjo"
      },
      "execution_count": null,
      "outputs": []
    },
    {
      "cell_type": "code",
      "source": [
        "# Define early stopping\n",
        "early_stopping = EarlyStopping(monitor='val_loss', patience=3, restore_best_weights=True)"
      ],
      "metadata": {
        "id": "vYVLGrswxzXp"
      },
      "execution_count": null,
      "outputs": []
    },
    {
      "cell_type": "code",
      "source": [
        "# Perform empirical tuning\n",
        "for i, params in enumerate(hyperparameters, 1):\n",
        "    print(f\"Round {i} Hyperparameters:\", params)\n",
        "    model = create_cnn_model(X_train.shape[1], X_train.shape[2], **params)\n",
        "    history = model.fit(\n",
        "        X_train, y_train,\n",
        "        epochs=30,\n",
        "        batch_size=32,\n",
        "        validation_data=(X_test, y_test),\n",
        "        callbacks=[early_stopping]\n",
        "    )\n",
        "    test_loss, test_acc = model.evaluate(X_test, y_test)\n",
        "    print(\"Test Accuracy:\", test_acc)"
      ],
      "metadata": {
        "colab": {
          "base_uri": "https://localhost:8080/"
        },
        "id": "SZDZ_0RZx3pt",
        "outputId": "d801d197-4460-4c7f-a50f-5cebef398008"
      },
      "execution_count": null,
      "outputs": [
        {
          "output_type": "stream",
          "name": "stdout",
          "text": [
            "Round 1 Hyperparameters: {'dropout_rate': 0.6, 'num_filters': 16, 'kernel_size': (3, 3), 'pool_size': (2, 2), 'dense_units': 32}\n",
            "Epoch 1/30\n",
            "113/113 [==============================] - 4s 22ms/step - loss: 0.8620 - accuracy: 0.6146 - val_loss: 0.7856 - val_accuracy: 0.6554\n",
            "Epoch 2/30\n",
            "113/113 [==============================] - 1s 12ms/step - loss: 0.6452 - accuracy: 0.7417 - val_loss: 0.6738 - val_accuracy: 0.7252\n",
            "Epoch 3/30\n",
            "113/113 [==============================] - 1s 12ms/step - loss: 0.5682 - accuracy: 0.7810 - val_loss: 0.6294 - val_accuracy: 0.7512\n",
            "Epoch 4/30\n",
            "113/113 [==============================] - 1s 12ms/step - loss: 0.5066 - accuracy: 0.8117 - val_loss: 0.5912 - val_accuracy: 0.7557\n",
            "Epoch 5/30\n",
            "113/113 [==============================] - 1s 12ms/step - loss: 0.4351 - accuracy: 0.8331 - val_loss: 0.5835 - val_accuracy: 0.7690\n",
            "Epoch 6/30\n",
            "113/113 [==============================] - 1s 12ms/step - loss: 0.3738 - accuracy: 0.8533 - val_loss: 0.5453 - val_accuracy: 0.7861\n",
            "Epoch 7/30\n",
            "113/113 [==============================] - 1s 12ms/step - loss: 0.3173 - accuracy: 0.8790 - val_loss: 0.5188 - val_accuracy: 0.8044\n",
            "Epoch 8/30\n",
            "113/113 [==============================] - 1s 12ms/step - loss: 0.2865 - accuracy: 0.8926 - val_loss: 0.5511 - val_accuracy: 0.8116\n",
            "Epoch 9/30\n",
            "113/113 [==============================] - 1s 12ms/step - loss: 0.2598 - accuracy: 0.8987 - val_loss: 0.5845 - val_accuracy: 0.8017\n",
            "Epoch 10/30\n",
            "113/113 [==============================] - 1s 12ms/step - loss: 0.2246 - accuracy: 0.9084 - val_loss: 0.6358 - val_accuracy: 0.7961\n",
            "57/57 [==============================] - 0s 5ms/step - loss: 0.5188 - accuracy: 0.8044\n",
            "Test Accuracy: 0.8044321537017822\n",
            "Round 2 Hyperparameters: {'dropout_rate': 0.5, 'num_filters': 32, 'kernel_size': (3, 3), 'pool_size': (2, 2), 'dense_units': 64}\n",
            "Epoch 1/30\n",
            "113/113 [==============================] - 6s 34ms/step - loss: 0.8325 - accuracy: 0.6326 - val_loss: 0.6649 - val_accuracy: 0.7418\n",
            "Epoch 2/30\n",
            "113/113 [==============================] - 2s 20ms/step - loss: 0.6356 - accuracy: 0.7533 - val_loss: 0.6040 - val_accuracy: 0.7590\n",
            "Epoch 3/30\n",
            "113/113 [==============================] - 2s 19ms/step - loss: 0.5101 - accuracy: 0.8095 - val_loss: 0.6128 - val_accuracy: 0.7673\n",
            "Epoch 4/30\n",
            "113/113 [==============================] - 2s 20ms/step - loss: 0.4134 - accuracy: 0.8411 - val_loss: 0.5269 - val_accuracy: 0.8044\n",
            "Epoch 5/30\n",
            "113/113 [==============================] - 2s 20ms/step - loss: 0.3347 - accuracy: 0.8710 - val_loss: 0.5426 - val_accuracy: 0.7867\n",
            "Epoch 6/30\n",
            "113/113 [==============================] - 2s 19ms/step - loss: 0.2824 - accuracy: 0.8953 - val_loss: 0.5541 - val_accuracy: 0.7939\n",
            "Epoch 7/30\n",
            "113/113 [==============================] - 2s 20ms/step - loss: 0.2169 - accuracy: 0.9136 - val_loss: 0.6290 - val_accuracy: 0.7856\n",
            "57/57 [==============================] - 0s 7ms/step - loss: 0.5269 - accuracy: 0.8044\n",
            "Test Accuracy: 0.8044321537017822\n",
            "Round 3 Hyperparameters: {'dropout_rate': 0.4, 'num_filters': 64, 'kernel_size': (3, 3), 'pool_size': (2, 2), 'dense_units': 128}\n",
            "Epoch 1/30\n",
            "113/113 [==============================] - 9s 60ms/step - loss: 1.0366 - accuracy: 0.5269 - val_loss: 0.8010 - val_accuracy: 0.6753\n",
            "Epoch 2/30\n",
            "113/113 [==============================] - 4s 38ms/step - loss: 0.6952 - accuracy: 0.7234 - val_loss: 0.6562 - val_accuracy: 0.7380\n",
            "Epoch 3/30\n",
            "113/113 [==============================] - 4s 38ms/step - loss: 0.5610 - accuracy: 0.7854 - val_loss: 0.6018 - val_accuracy: 0.7706\n",
            "Epoch 4/30\n",
            "113/113 [==============================] - 4s 38ms/step - loss: 0.4621 - accuracy: 0.8245 - val_loss: 0.5814 - val_accuracy: 0.7834\n",
            "Epoch 5/30\n",
            "113/113 [==============================] - 4s 37ms/step - loss: 0.3565 - accuracy: 0.8641 - val_loss: 0.5989 - val_accuracy: 0.7900\n",
            "Epoch 6/30\n",
            "113/113 [==============================] - 4s 38ms/step - loss: 0.2910 - accuracy: 0.8876 - val_loss: 0.5340 - val_accuracy: 0.8028\n",
            "Epoch 7/30\n",
            "113/113 [==============================] - 4s 36ms/step - loss: 0.2196 - accuracy: 0.9158 - val_loss: 0.6530 - val_accuracy: 0.7928\n",
            "Epoch 8/30\n",
            "113/113 [==============================] - 4s 37ms/step - loss: 0.1794 - accuracy: 0.9352 - val_loss: 0.7130 - val_accuracy: 0.7945\n",
            "Epoch 9/30\n",
            "113/113 [==============================] - 4s 38ms/step - loss: 0.1282 - accuracy: 0.9518 - val_loss: 0.7139 - val_accuracy: 0.8072\n",
            "57/57 [==============================] - 1s 11ms/step - loss: 0.5340 - accuracy: 0.8028\n",
            "Test Accuracy: 0.8027700781822205\n"
          ]
        }
      ]
    },
    {
      "cell_type": "code",
      "source": [
        "#performing auc on the model\n",
        "from sklearn.metrics import roc_auc_score\n",
        "y_pred_probs = model.predict(X_test)\n",
        "auc = roc_auc_score(y_test, y_pred_probs, multi_class='ovr')\n",
        "print(\"AUC:\", auc)"
      ],
      "metadata": {
        "colab": {
          "base_uri": "https://localhost:8080/"
        },
        "id": "5KTup6olmOPU",
        "outputId": "e4c04b5f-1e9d-40b8-c886-2ca5925d2fa1"
      },
      "execution_count": null,
      "outputs": [
        {
          "output_type": "stream",
          "name": "stdout",
          "text": [
            "57/57 [==============================] - 1s 10ms/step\n",
            "AUC: 0.9303321473610682\n"
          ]
        }
      ]
    },
    {
      "cell_type": "code",
      "source": [
        "#performing confusion matrix\n",
        "from sklearn.metrics import confusion_matrix\n",
        "y_pred = model.predict(X_test)\n",
        "y_pred = np.argmax(y_pred, axis=1)\n",
        "cm = confusion_matrix(y_test, y_pred)\n",
        "print(\"Confusion Matrix:\")\n",
        "print(cm)"
      ],
      "metadata": {
        "colab": {
          "base_uri": "https://localhost:8080/"
        },
        "id": "CE5Iivv9oYu5",
        "outputId": "60b34111-d47b-46cd-fe43-2d52d1b0c7d5"
      },
      "execution_count": null,
      "outputs": [
        {
          "output_type": "stream",
          "name": "stdout",
          "text": [
            "57/57 [==============================] - 1s 10ms/step\n",
            "Confusion Matrix:\n",
            "[[574  36  24]\n",
            " [ 50 438 112]\n",
            " [ 59  75 437]]\n"
          ]
        }
      ]
    },
    {
      "cell_type": "code",
      "source": [],
      "metadata": {
        "id": "4J4LShwOn7Da"
      },
      "execution_count": null,
      "outputs": []
    }
  ]
}